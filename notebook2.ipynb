{
  "nbformat": 4,
  "nbformat_minor": 0,
  "metadata": {
    "colab": {
      "name": "notebook2",
      "provenance": [],
      "collapsed_sections": [],
      "authorship_tag": "ABX9TyPmEPFfcSRo1rJ+IaJGZT1Z",
      "include_colab_link": true
    },
    "kernelspec": {
      "name": "python3",
      "display_name": "Python 3"
    },
    "language_info": {
      "name": "python"
    },
    "accelerator": "GPU"
  },
  "cells": [
    {
      "cell_type": "markdown",
      "metadata": {
        "id": "view-in-github",
        "colab_type": "text"
      },
      "source": [
        "<a href=\"https://colab.research.google.com/github/vermasrijan19/notebook/blob/main/notebook2.ipynb\" target=\"_parent\"><img src=\"https://colab.research.google.com/assets/colab-badge.svg\" alt=\"Open In Colab\"/></a>"
      ]
    },
    {
      "cell_type": "code",
      "metadata": {
        "id": "Ef6X2nLnbex4"
      },
      "source": [
        "def bubbleSort(arr):\n",
        "    n = len(arr)\n",
        "\n",
        "    for i in range(n):\n",
        "\n",
        "        for j in range(0, n-i-1):\n",
        " \n",
        "            if arr[j] > arr[j+1] :\n",
        "                arr[j], arr[j+1] = arr[j+1], arr[j]"
      ],
      "execution_count": null,
      "outputs": []
    },
    {
      "cell_type": "code",
      "metadata": {
        "colab": {
          "base_uri": "https://localhost:8080/"
        },
        "id": "rzXjAp20b2sl",
        "outputId": "680bc9c8-1711-458d-d410-64713af140a1"
      },
      "source": [
        "arr = [5,8,9,88,44,22,456,8,21,6,56,9946,6,4964,6,467,6,46,76,4,15,84,85,16,7]\n",
        " \n",
        "bubbleSort(arr)\n",
        " \n",
        "print (\"Sorted array is:\")\n",
        "for i in range(len(arr)):\n",
        "    print (\"%d\" %arr[i]),"
      ],
      "execution_count": null,
      "outputs": [
        {
          "output_type": "stream",
          "text": [
            "Sorted array is:\n",
            "4\n",
            "5\n",
            "6\n",
            "6\n",
            "6\n",
            "6\n",
            "7\n",
            "8\n",
            "8\n",
            "9\n",
            "15\n",
            "16\n",
            "21\n",
            "22\n",
            "44\n",
            "46\n",
            "56\n",
            "76\n",
            "84\n",
            "85\n",
            "88\n",
            "456\n",
            "467\n",
            "4964\n",
            "9946\n"
          ],
          "name": "stdout"
        }
      ]
    }
  ]
}